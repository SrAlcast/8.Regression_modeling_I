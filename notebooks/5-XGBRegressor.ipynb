{
 "cells": [
  {
   "cell_type": "code",
   "execution_count": null,
   "metadata": {},
   "outputs": [],
   "source": [
    "# Tratamiento de datos\n",
    "# -----------------------------------------------------------------------\n",
    "import pandas as pd\n",
    "import numpy as np\n",
    "import random as rand\n",
    "from tqdm import tqdm\n",
    "import random as rand\n",
    "\n",
    "# Visualizaciones\n",
    "# -----------------------------------------------------------------------\n",
    "import seaborn as sns\n",
    "import matplotlib.pyplot as plt\n",
    "from sklearn import tree\n",
    "\n",
    "import sys\n",
    "import os\n",
    "\n",
    "# Agregar la carpeta 'src' al sys.path\n",
    "src_path = os.path.abspath(\"../src\")\n",
    "if src_path not in sys.path:\n",
    "    sys.path.append(src_path)\n",
    "    import support_DecisionTreeRegressor as sp\n",
    "\n",
    "# Para realizar la regresión lineal y la evaluación del modelo\n",
    "# -----------------------------------------------------------------------\n",
    "from sklearn.tree import DecisionTreeRegressor, plot_tree\n",
    "from sklearn.model_selection import train_test_split, GridSearchCV\n",
    "from sklearn.metrics import r2_score, mean_squared_error, mean_absolute_error"
   ]
  },
  {
   "cell_type": "code",
   "execution_count": null,
   "metadata": {},
   "outputs": [],
   "source": [
    "#Lectura de csv\n",
    "df = pd.read_csv(\"../data/df_te.csv\")\n",
    "df.sample(5)"
   ]
  },
  {
   "cell_type": "code",
   "execution_count": null,
   "metadata": {},
   "outputs": [],
   "source": [
    "# Creacion de x (variables explicativas) e y (variable respuesta)\n",
    "x=df.drop(\"price\",axis=1)\n",
    "y=df[[\"price\"]]\n",
    "x_train, x_test,y_train,y_test=train_test_split(x,y,train_size=0.8,random_state=42)"
   ]
  },
  {
   "cell_type": "code",
   "execution_count": null,
   "metadata": {},
   "outputs": [],
   "source": [
    "# # Parámetros a evaluar\n",
    "# params_arbol = {\n",
    "#     'max_depth': [5, 10, 20],\n",
    "#     'min_samples_split': [10, 20],\n",
    "#     'min_samples_leaf': [50, 100, 150],\n",
    "#     'max_leaf_nodes': [30, 40, 50, 60, 70, 100]\n",
    "# }\n",
    "# grid_search_arbol=GridSearchCV(DecisionTreeRegressor(),\n",
    "#                                param_grid=params_arbol,\n",
    "#                                cv=5,\n",
    "#                                scoring=\"neg_mean_squared_error\",\n",
    "#                                n_jobs=-1)\n",
    "\n",
    "# grid_search_arbol.fit(x_train,y_train)\n",
    "# modelo_arbol_final=grid_search_arbol.best_estimator_"
   ]
  },
  {
   "cell_type": "code",
   "execution_count": null,
   "metadata": {},
   "outputs": [],
   "source": [
    "y_train_pred=modelo_arbol_final.predict(x_train)\n",
    "y_test_pred=modelo_arbol_final.predict(x_test)"
   ]
  },
  {
   "cell_type": "code",
   "execution_count": null,
   "metadata": {},
   "outputs": [],
   "source": [
    "sp.metricas(y_train, y_train_pred, y_test, y_test_pred)"
   ]
  },
  {
   "cell_type": "markdown",
   "metadata": {},
   "source": []
  },
  {
   "cell_type": "code",
   "execution_count": null,
   "metadata": {},
   "outputs": [],
   "source": [
    "sp.comparativa_graficos(y_test, y_test_pred)"
   ]
  },
  {
   "cell_type": "markdown",
   "metadata": {},
   "source": []
  },
  {
   "cell_type": "markdown",
   "metadata": {},
   "source": [
    "### PROBAMOS A MEJORAR EL MODELO ELIMINANDO VARIABLES CON POCA REPERCUSIÓN"
   ]
  },
  {
   "cell_type": "markdown",
   "metadata": {},
   "source": [
    "Calculamos la correlación de las variables con \"price\" para ver cuales pueden ser eliminadas por no ser representativas en el modelo"
   ]
  },
  {
   "cell_type": "code",
   "execution_count": null,
   "metadata": {},
   "outputs": [],
   "source": [
    "sp.analizar_correlaciones(df, \"price\", threshold=0.05)"
   ]
  },
  {
   "cell_type": "code",
   "execution_count": null,
   "metadata": {},
   "outputs": [],
   "source": [
    "# Excluir columnas irrelevantes según el análisis previo\n",
    "columns_to_exclude = ['seller', 'offerType', 'abtest']\n",
    "df_filtered = df.drop(columns=columns_to_exclude)"
   ]
  },
  {
   "cell_type": "code",
   "execution_count": null,
   "metadata": {},
   "outputs": [],
   "source": [
    "# Definir las características (X) y la variable objetivo (y)\n",
    "x2 = df_filtered.drop(columns=['price'])\n",
    "y2 = df_filtered['price']\n",
    "\n",
    "# Dividir los datos en conjuntos de entrenamiento y prueba\n",
    "x_train2, x_test2, y_train2, y_test2 = train_test_split(x2, y2, test_size=0.2, random_state=42)"
   ]
  },
  {
   "cell_type": "code",
   "execution_count": null,
   "metadata": {},
   "outputs": [],
   "source": [
    "# Grid de hiperparámetros enfocado en regularización\n",
    "param_grid = {\n",
    "    'max_depth': [5, 7, 10],          # Reducir profundidad máxima\n",
    "    'min_samples_split': [20, 50, 100],  # Aumentar muestras mínimas para dividir\n",
    "    'min_samples_leaf': [10, 20, 50],    # Aumentar tamaño mínimo de nodos hoja\n",
    "}\n",
    "\n",
    "# Configurar GridSearchCV\n",
    "model = GridSearchCV(\n",
    "    estimator=DecisionTreeRegressor(random_state=42),\n",
    "    param_grid=param_grid,\n",
    "    cv=5,  # Validación cruzada\n",
    "    scoring='neg_mean_squared_error',\n",
    "    n_jobs=-1\n",
    ")\n",
    "\n",
    "# Entrenar el modelo\n",
    "model.fit(x_train2, y_train2)\n",
    "\n",
    "# Predecir en los datos de prueba\n",
    "y_pred_test2 = model.predict(x_test2)\n",
    "y_pred_train2 = model.predict(x_train2)"
   ]
  },
  {
   "cell_type": "code",
   "execution_count": null,
   "metadata": {},
   "outputs": [],
   "source": [
    "sp.metricas(y_train2, y_pred_train2, y_test2, y_pred_test2)"
   ]
  },
  {
   "cell_type": "markdown",
   "metadata": {},
   "source": []
  },
  {
   "cell_type": "code",
   "execution_count": null,
   "metadata": {},
   "outputs": [],
   "source": [
    "sp.comparativa_graficos( y_test2, y_pred_test2)"
   ]
  },
  {
   "cell_type": "markdown",
   "metadata": {},
   "source": []
  },
  {
   "cell_type": "code",
   "execution_count": null,
   "metadata": {},
   "outputs": [],
   "source": [
    "# Definir el grid de parámetros\n",
    "params_arbol = {\n",
    "    'max_depth': [5, 10, 15, 20, 30, None],  # Explorar profundidad fija y sin límite\n",
    "    'min_samples_split': [2, 10, 20, 50],  # Divisiones con más o menos datos\n",
    "    'min_samples_leaf': [1, 5, 10, 20, 50],  # Nodos hoja con diferentes tamaños mínimos\n",
    "    'max_leaf_nodes': [None, 20, 30, 50, 100, 200],  # Limitar o no el número de nodos hoja\n",
    "}\n",
    "\n",
    "# Configurar GridSearchCV\n",
    "model2 = GridSearchCV(\n",
    "    DecisionTreeRegressor(random_state=42),\n",
    "    param_grid=params_arbol,\n",
    "    cv=5,\n",
    "    scoring=\"neg_mean_squared_error\",\n",
    "    n_jobs=-1\n",
    ")\n",
    "\n",
    "# Entrenar el modelo con GridSearchCV\n",
    "model2.fit(x_train2, y_train2)\n",
    "\n",
    "# Mostrar los mejores parámetros y el error asociado\n",
    "best_params = model2.best_params_\n",
    "\n",
    "print(f\"Mejores parámetros: {best_params}\")"
   ]
  },
  {
   "cell_type": "code",
   "execution_count": null,
   "metadata": {},
   "outputs": [],
   "source": [
    "y_pred_test3 = model2.predict(x_test2)\n",
    "y_pred_train3 = model2.predict(x_train2)\n",
    "sp.metricas(y_train2, y_pred_train3, y_test2, y_pred_test3)"
   ]
  },
  {
   "cell_type": "markdown",
   "metadata": {},
   "source": []
  },
  {
   "cell_type": "code",
   "execution_count": null,
   "metadata": {},
   "outputs": [],
   "source": [
    "sp.comparativa_graficos( y_test2, y_pred_test3)"
   ]
  },
  {
   "cell_type": "markdown",
   "metadata": {},
   "source": []
  },
  {
   "cell_type": "markdown",
   "metadata": {},
   "source": [
    "### PRUEBA DE MODELO LIMPIANDO DATOS CON PRECIOS OUTIERS"
   ]
  },
  {
   "cell_type": "markdown",
   "metadata": {},
   "source": [
    "#### Ahora vamos a tratar de mejorar el modelo por última vez eliminando precios muy extremos que podemos calificar como outiers que generan ruido en el modelo"
   ]
  },
  {
   "cell_type": "code",
   "execution_count": null,
   "metadata": {},
   "outputs": [],
   "source": [
    "# Cálculo del rango intercuartílico (IQR)\n",
    "q1 = df['price'].quantile(0.25)  # Primer cuartil\n",
    "q3 = df['price'].quantile(0.75)  # Tercer cuartil\n",
    "iqr = q3 - q1\n",
    "\n",
    "# Definir límites para identificar outliers (enfoque más estricto)\n",
    "upper_bound = q3 + 3 * iqr\n",
    "\n",
    "# Filtrar los outliers superiores\n",
    "outliers = df[df['price'] > upper_bound]\n",
    "\n",
    "# Visualizar los resultados\n",
    "plt.figure(figsize=(12, 6))\n",
    "\n",
    "# Boxplot mostrando los límites y outliers\n",
    "plt.subplot(1, 2, 1)\n",
    "sns.boxplot(data=df, x='price', color='lightblue')\n",
    "plt.axhline(upper_bound, color='red', linestyle='--', label=f'Límite superior ({upper_bound:.2f})')\n",
    "plt.title('Boxplot con Límite para Outliers')\n",
    "plt.legend()\n",
    "\n",
    "# Histograma resaltando los outliers\n",
    "plt.subplot(1, 2, 2)\n",
    "sns.histplot(df['price'], bins=30, kde=True, color='lightblue')\n",
    "plt.axvline(upper_bound, color='red', linestyle='--', label=f'Límite superior ({upper_bound:.2f})')\n",
    "plt.title('Histograma con Límite para Outliers')\n",
    "plt.legend()\n",
    "\n",
    "plt.tight_layout()\n",
    "plt.show()\n",
    "\n",
    "# Mostrar información sobre los outliers\n",
    "print(\"Valores considerados outliers:\")\n",
    "print(outliers)\n",
    "\n",
    "print(f\"\\nUmbral superior más estricto para considerar outliers: {upper_bound:.2f}\")\n"
   ]
  },
  {
   "cell_type": "code",
   "execution_count": null,
   "metadata": {},
   "outputs": [],
   "source": [
    "# Ver valores atipicos de \"price\"\n",
    "limite_inferior = 300\n",
    "limite_superior = 35000\n",
    "\n",
    "df_filtered_copy=df_filtered.copy()\n",
    "\n",
    "# Filtro los valores fuera de rango\n",
    "valores_fuera_rango = df_filtered_copy[(df_filtered_copy['price'] < limite_inferior) | (df_filtered_copy['price'] > limite_superior)]\n",
    "\n",
    "# Reemplazo los valores fuera de rango por NaN\n",
    "df_filtered_copy.loc[df_filtered_copy['price'] < limite_inferior, 'price'] = np.nan\n",
    "df_filtered_copy.loc[df_filtered_copy['price'] > limite_superior, 'price'] = np.nan\n",
    "\n",
    "# Elimino las filas con NaN en la columna 'price' en el DataFrame original\n",
    "df_filtered2 = df_filtered_copy.dropna(subset=['price'])\n",
    "\n",
    "# Ver la forma del DataFrame con valores fuera de rango\n",
    "valores_fuera_rango.shape"
   ]
  },
  {
   "cell_type": "code",
   "execution_count": null,
   "metadata": {},
   "outputs": [],
   "source": [
    "# Definir las características (X) y la variable objetivo (y)\n",
    "x3 = df_filtered2.drop(columns=['price'])\n",
    "y3 = df_filtered2['price']\n",
    "\n",
    "# Dividir los datos en conjuntos de entrenamiento y prueba\n",
    "x_train3, x_test3, y_train3, y_test3 = train_test_split(x3, y3, test_size=0.2, random_state=42)"
   ]
  },
  {
   "cell_type": "code",
   "execution_count": null,
   "metadata": {},
   "outputs": [],
   "source": [
    "# Grid de hiperparámetros enfocado en regularización\n",
    "param_grid = {\n",
    "    'max_depth': [5, 10, 20, 30, None],  # Explorar profundidad fija y sin límite\n",
    "    'min_samples_split': [2, 10, 20, 50],  # Divisiones con más o menos datos\n",
    "    'min_samples_leaf': [1, 5, 10, 20, 50],  # Nodos hoja con diferentes tamaños mínimos\n",
    "    'max_leaf_nodes': [None, 20, 30, 50, 100],  # Limitar o no el número de nodos hoja\n",
    "}\n",
    "\n",
    "# Configurar GridSearchCV\n",
    "model = GridSearchCV(\n",
    "    estimator=DecisionTreeRegressor(random_state=42),\n",
    "    param_grid=param_grid,\n",
    "    cv=10,  # Validación cruzada\n",
    "    scoring='neg_mean_squared_error',\n",
    "    n_jobs=-1\n",
    ")\n",
    "\n",
    "# Entrenar el modelo\n",
    "model.fit(x_train3, y_train3)\n",
    "\n",
    "# Predecir en los datos de prueba\n",
    "y_pred_test4 = model.predict(x_test3)\n",
    "y_pred_train4 = model.predict(x_train3)"
   ]
  },
  {
   "cell_type": "code",
   "execution_count": null,
   "metadata": {},
   "outputs": [],
   "source": [
    "sp.metricas(y_train2, y_pred_train3, y_test2, y_pred_test3)"
   ]
  },
  {
   "cell_type": "code",
   "execution_count": null,
   "metadata": {},
   "outputs": [],
   "source": [
    "sp.metricas(y_train3, y_pred_train4, y_test3, y_pred_test4)"
   ]
  },
  {
   "cell_type": "code",
   "execution_count": null,
   "metadata": {},
   "outputs": [],
   "source": [
    "sp.comparativa_graficos( y_test3, y_pred_test4)"
   ]
  },
  {
   "cell_type": "markdown",
   "metadata": {},
   "source": [
    "#### COMPARATIVA DE METRICAS"
   ]
  },
  {
   "cell_type": "code",
   "execution_count": null,
   "metadata": {},
   "outputs": [],
   "source": []
  }
 ],
 "metadata": {
  "kernelspec": {
   "display_name": "Python 3",
   "language": "python",
   "name": "python3"
  },
  "language_info": {
   "codemirror_mode": {
    "name": "ipython",
    "version": 3
   },
   "file_extension": ".py",
   "mimetype": "text/x-python",
   "name": "python",
   "nbconvert_exporter": "python",
   "pygments_lexer": "ipython3",
   "version": "3.12.7"
  }
 },
 "nbformat": 4,
 "nbformat_minor": 2
}
